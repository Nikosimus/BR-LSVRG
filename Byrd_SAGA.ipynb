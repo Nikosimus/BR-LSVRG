{
 "cells": [
  {
   "cell_type": "code",
   "execution_count": 1,
   "metadata": {},
   "outputs": [],
   "source": [
    "import numpy as np\n",
    "from numpy.linalg import norm\n",
    "import pickle\n",
    "import matplotlib.pyplot as plt\n",
    "import itertools\n",
    "from scipy.stats import norm as norm_d\n",
    "from scipy.stats import expon\n",
    "from scipy.stats import weibull_min as weibull\n",
    "from scipy.stats import burr12 as burr\n",
    "from scipy.stats import randint\n",
    "from scipy.stats import uniform\n",
    "from scipy.optimize import minimize\n",
    "import copy\n",
    "import math\n",
    "import time\n",
    "from scipy.optimize import minimize\n",
    "from scipy.sparse.linalg import svds\n",
    "from scipy.linalg import svdvals\n",
    "import scipy\n",
    "from sklearn.datasets import load_svmlight_file\n",
    "import pickle\n",
    "from pathlib import Path\n",
    "from functions import *\n",
    "from algs import *\n",
    "from utils import *\n",
    "\n",
    "\n",
    "%matplotlib inline"
   ]
  },
  {
   "cell_type": "code",
   "execution_count": 2,
   "metadata": {},
   "outputs": [
    {
     "name": "stdout",
     "output_type": "stream",
     "text": [
      "Datasize:  49749 , dimension:  300\n",
      "Wall time: 454 ms\n"
     ]
    }
   ],
   "source": [
    "%%time\n",
    "dataset = \"w8a\"\n",
    "A, y, m, n, sparsity_A = prepare_data(dataset)\n",
    "print(\"Datasize: \", m, \", dimension: \", n)"
   ]
  },
  {
   "cell_type": "code",
   "execution_count": 3,
   "metadata": {},
   "outputs": [
    {
     "name": "stdout",
     "output_type": "stream",
     "text": [
      "Smoothness constant of f         :  0.661199384494479\n",
      "Average smoothness const of f_ij :  2.912551006050437\n",
      "Worst smoothness const of f_ij   :  28.5\n",
      "Sparsity of A:  0.03883401341400497\n",
      "Wall time: 30.9 ms\n"
     ]
    }
   ],
   "source": [
    "%%time\n",
    "dataset = \"w8a\"\n",
    "num_of_workers = 16\n",
    "L, average_L, worst_L = compute_L_distrib(dataset, A)\n",
    "denseA = A.toarray()\n",
    "print(\"Smoothness constant of f         : \", L)\n",
    "print(\"Average smoothness const of f_ij : \", average_L)\n",
    "print(\"Worst smoothness const of f_ij   : \", worst_L)\n",
    "print(\"Sparsity of A: \", sparsity_A)"
   ]
  },
  {
   "cell_type": "code",
   "execution_count": 4,
   "metadata": {},
   "outputs": [
    {
     "name": "stdout",
     "output_type": "stream",
     "text": [
      "Datasize:  49749 , dimension:  300\n",
      "Smoothness constant of f         :  0.661199384494479\n",
      "Average smoothness const of f_ij :  2.912551006050437\n",
      "Worst smoothness const of f_ij   :  28.5\n",
      "Wall time: 504 ms\n"
     ]
    }
   ],
   "source": [
    "%%time\n",
    "dataset = \"w8a\"\n",
    "A, y, m, n, sparsity_A = prepare_data(dataset)\n",
    "denseA = A.toarray()\n",
    "L, average_L, worst_L = compute_L_distrib(dataset, A)\n",
    "print(\"Datasize: \", m, \", dimension: \", n)\n",
    "print(\"Smoothness constant of f         : \", L)\n",
    "print(\"Average smoothness const of f_ij : \", average_L)\n",
    "print(\"Worst smoothness const of f_ij   : \", worst_L)"
   ]
  },
  {
   "cell_type": "code",
   "execution_count": 5,
   "metadata": {},
   "outputs": [],
   "source": [
    "filename=dataset+\"_x_init_all_ones\"\n",
    "x_init = np.ones(n)\n",
    "l2 = L/1000\n",
    "l1 = 0"
   ]
  },
  {
   "cell_type": "code",
   "execution_count": 6,
   "metadata": {
    "scrolled": false
   },
   "outputs": [
    {
     "name": "stdout",
     "output_type": "stream",
     "text": [
      "True\n",
      "0.17403451324630026\n",
      "      fun: 0.17403451324630026\n",
      " hess_inv: <300x300 LbfgsInvHessProduct with dtype=float64>\n",
      "      jac: array([-4.28145150e-12,  3.18267889e-12, -3.33306624e-13, -3.02681957e-12,\n",
      "        8.22951917e-12, -2.93118313e-12,  5.75092220e-13, -3.41261692e-12,\n",
      "       -1.67192063e-12,  3.37124176e-12, -2.59587870e-12,  2.97334873e-12,\n",
      "       -7.37762716e-14,  2.45168675e-12, -1.87102430e-12,  4.92048394e-12,\n",
      "        1.89814388e-11,  6.20148442e-12,  1.90652865e-12, -1.48763320e-12,\n",
      "       -4.02485575e-12,  1.59329480e-12,  3.17124051e-12, -1.97621043e-12,\n",
      "       -3.20564999e-13,  2.09680434e-12,  1.10943860e-12, -1.12524345e-12,\n",
      "       -2.43347280e-13,  1.90419501e-12,  2.31119545e-12, -9.06573373e-13,\n",
      "       -7.15626885e-13,  1.72982960e-12,  1.06890731e-11,  1.18597414e-12,\n",
      "       -3.82836785e-12,  4.38436538e-12, -2.12958646e-12, -4.13701739e-12,\n",
      "        7.09695788e-13, -1.76875113e-12, -1.76875113e-12, -2.36573565e-13,\n",
      "        9.31270631e-13,  3.58822069e-12,  1.33867451e-12, -1.62712991e-12,\n",
      "       -2.07088808e-12, -8.37309300e-13, -1.32905210e-12,  4.46526863e-12,\n",
      "        2.24389875e-12,  5.52792350e-13,  2.47945826e-12, -4.39481622e-13,\n",
      "        7.41756775e-12,  1.59938192e-12,  2.48081343e-12,  4.47524954e-12,\n",
      "        2.29481533e-12, -1.34330519e-12, -6.81522818e-13,  5.78978055e-14,\n",
      "       -4.14867348e-12, -9.93148001e-13, -1.15523959e-12, -5.46921129e-12,\n",
      "        3.09881854e-13, -2.67840437e-13,  5.14322352e-12,  4.03983677e-12,\n",
      "        5.17006433e-12, -1.08218046e-12,  1.02804973e-11,  3.37931690e-12,\n",
      "        1.02288403e-13,  5.59187359e-12,  1.75888416e-12,  2.02261385e-12,\n",
      "        6.76432657e-12,  3.31502742e-13, -1.38466498e-12,  7.56108135e-13,\n",
      "       -2.91580995e-14,  2.66219853e-12, -2.05983982e-12, -1.12491995e-12,\n",
      "        1.87339559e-12, -1.06549936e-12,  2.31348122e-12,  4.56134544e-12,\n",
      "        6.45928382e-12,  2.02384145e-12,  2.73378065e-12, -4.03279244e-13,\n",
      "       -2.06264365e-12,  6.19864148e-12,  3.23978469e-12, -9.57212757e-13,\n",
      "        1.57084838e-12,  4.38953480e-12, -1.98070510e-13, -1.67931316e-12,\n",
      "       -1.69056983e-12,  2.52595926e-12, -8.18319089e-12, -1.62420083e-12,\n",
      "        6.45587690e-12,  2.55782896e-12, -1.62292952e-12,  9.91575366e-13,\n",
      "        1.06928968e-12,  5.18990319e-12,  5.88106527e-12, -1.08185857e-12,\n",
      "        2.00707234e-11,  1.75793841e-13, -3.14960693e-12,  3.69351225e-12,\n",
      "        3.69351225e-12,  3.69351225e-12,  3.69351225e-12,  3.69351225e-12,\n",
      "        1.87580356e-12,  1.87580356e-12,  1.87580356e-12,  1.35474850e-12,\n",
      "        1.87580356e-12,  1.87580356e-12,  1.35474850e-12,  1.87580356e-12,\n",
      "        1.87580356e-12,  1.23595780e-12,  1.75701287e-12,  1.75701287e-12,\n",
      "        1.75701287e-12,  1.75701287e-12,  1.75701287e-12,  1.75701287e-12,\n",
      "        1.75701287e-12,  1.75701287e-12,  3.69351225e-12,  3.87139470e-12,\n",
      "       -2.10150595e-13, -8.74474755e-13, -6.40193031e-13,  4.76970948e-13,\n",
      "        5.56014967e-12,  5.30229723e-12, -7.94554235e-13, -1.51211775e-13,\n",
      "       -3.87500199e-13, -2.27847694e-12,  1.21491624e-12,  5.00116219e-12,\n",
      "       -1.99122847e-12,  5.11305408e-13, -3.69591266e-13, -2.08215484e-12,\n",
      "        1.03223999e-12,  5.70619237e-12, -5.46129629e-13,  8.39038583e-14,\n",
      "        6.81657909e-13, -7.15749061e-13,  7.94950504e-13,  1.49932584e-12,\n",
      "       -3.59212497e-13,  8.14416175e-13,  1.75867865e-12,  7.51770472e-12,\n",
      "       -1.18723580e-12,  1.19962016e-12,  3.69351225e-12,  3.69351225e-12,\n",
      "        3.69351225e-12,  3.69351225e-12,  3.69351225e-12,  3.69351225e-12,\n",
      "        3.69351225e-12, -9.59383628e-13, -2.11773936e-12,  2.54988930e-12,\n",
      "       -8.28050746e-12, -3.19328754e-12,  2.55782896e-12,  7.59695353e-13,\n",
      "       -2.93434968e-13, -3.41190964e-12, -2.46792441e-12,  2.73500363e-12,\n",
      "       -3.07447210e-13,  2.45935993e-12, -6.35977219e-13,  1.32073302e-12,\n",
      "       -2.30699006e-12, -6.62312653e-13, -2.33131168e-12, -2.92257402e-12,\n",
      "        1.75779503e-13,  7.04390132e-13, -2.08740317e-12,  2.42095672e-12,\n",
      "        7.63714320e-12,  8.88753101e-13, -6.86409209e-12, -1.07342358e-13,\n",
      "        1.51280762e-12,  3.74531486e-12,  1.61269149e-12,  4.87470187e-12,\n",
      "        1.03554600e-12,  8.76671970e-12, -8.24402883e-13,  2.99046925e-12,\n",
      "        4.64963387e-12,  3.20473856e-12, -5.09501696e-12, -2.86629520e-12,\n",
      "       -2.45794054e-15, -1.93481300e-12,  2.41493837e-13, -8.65716922e-13,\n",
      "        2.53316199e-12,  1.73602845e-12,  2.17253001e-12, -1.78000705e-12,\n",
      "       -3.38946671e-12, -3.89839918e-12,  5.75849996e-13,  1.51980268e-12,\n",
      "        6.59592606e-13,  1.09939676e-12, -6.83162511e-13, -2.70519501e-13,\n",
      "        7.84739298e-13, -2.23806705e-13, -1.17015498e-12,  4.79948755e-12,\n",
      "        1.32830853e-12, -6.21856950e-13,  1.31873727e-12,  9.55184689e-13,\n",
      "       -1.88163829e-12,  8.44694648e-13,  3.35385933e-12,  1.07013477e-11,\n",
      "        5.99247827e-12,  8.70746902e-12,  3.57942978e-12, -6.61313604e-12,\n",
      "        1.70908968e-13,  2.22852775e-12, -9.24470813e-13, -2.42057088e-12,\n",
      "       -9.57753435e-14, -4.26451322e-12, -9.23308901e-13, -3.14291361e-12,\n",
      "        1.82962384e-12, -3.58123662e-12,  7.73355208e-12,  1.02871971e-12,\n",
      "       -3.03850532e-12,  3.49363415e-12,  1.38495443e-12, -3.13995265e-12,\n",
      "        4.16486019e-13,  1.29167342e-12,  5.66683676e-13,  2.59362811e-12,\n",
      "       -5.72920699e-13,  4.85756526e-12,  6.62489662e-12,  1.54347021e-12,\n",
      "        1.28020306e-11, -6.95764518e-14, -5.59623020e-13, -5.11362166e-12,\n",
      "        1.41286429e-11, -5.09707511e-13, -4.45700985e-13,  3.69351225e-12,\n",
      "        3.69351225e-12,  3.69351225e-12,  3.69351225e-12,  3.69351225e-12,\n",
      "        3.50267666e-13,  1.83404924e-12, -2.07090855e-13,  5.90239880e-13,\n",
      "        2.95205977e-12,  1.05681089e-13,  3.16152502e-12,  5.13487581e-13,\n",
      "        1.01618974e-12,  3.36026123e-12,  8.94239890e-12, -2.47100963e-12])\n",
      "  message: b'CONVERGENCE: REL_REDUCTION_OF_F_<=_FACTR*EPSMCH'\n",
      "     nfev: 45\n",
      "      nit: 42\n",
      "     njev: 45\n",
      "   status: 0\n",
      "  success: True\n",
      "        x: array([-0.68179307, -0.70913322, -0.86425308, -0.80942945, -0.90105617,\n",
      "       -0.51345779, -0.41732447, -0.28019554, -0.37487147, -0.84810053,\n",
      "       -0.75335973, -0.37166592, -0.29800515, -0.37675863, -0.36817132,\n",
      "       -1.02998169, -0.35796205, -0.41043393, -0.79803048, -0.6826483 ,\n",
      "       -1.19202047, -0.23186077, -0.74925039, -0.45935999, -0.30201318,\n",
      "       -0.43003229, -0.43605178, -0.52705534, -0.41503229, -0.45791834,\n",
      "       -0.37729504, -0.50867514, -0.50622519, -0.4826233 , -1.13724983,\n",
      "        0.22764562, -0.86578536, -0.85742561,  0.28161379,  0.20053876,\n",
      "        0.03648066,  0.35984792,  0.35984792, -0.66555626, -0.21172343,\n",
      "        0.06144605, -0.33566389,  0.34300098,  0.21520702, -0.08951693,\n",
      "       -0.29938804,  0.03141897,  0.35551918, -0.456862  , -0.83963349,\n",
      "        0.56472251, -0.59507716,  0.59721846, -0.06317986,  0.08750126,\n",
      "        0.38493967, -0.56143009,  0.54044256,  0.40760492,  1.09891419,\n",
      "        0.13170311,  0.59764848, -0.27013978, -0.09886311, -0.70566532,\n",
      "       -0.52183951, -0.20663359,  0.10681538,  0.49669661, -0.55103866,\n",
      "        0.84837234,  0.28051308, -0.44705091, -0.69138871, -0.75909177,\n",
      "       -0.62327711,  0.13765413, -0.21696553, -0.11904393, -0.17789627,\n",
      "        0.14097943, -0.81764227, -0.20090463, -0.43522503, -0.80001986,\n",
      "        0.65487646,  1.21230191,  0.31971762,  0.04802305,  0.7831818 ,\n",
      "        0.20659307, -0.30113695,  0.40520275,  0.31926152,  0.09944288,\n",
      "       -0.55092509, -0.18540514, -0.23928895, -0.66696183,  0.107538  ,\n",
      "       -0.70173967, -0.62718825, -0.26057014, -0.48170345,  0.0434868 ,\n",
      "        0.01690583,  0.56247807,  0.45786146, -0.7480546 , -0.54559769,\n",
      "       -0.03760466, -0.96451586, -0.54920247, -0.67722831,  0.06207653,\n",
      "        0.06207653,  0.06207653,  0.06207653,  0.06207653,  0.09989295,\n",
      "        0.09989295,  0.09989295,  0.08764927,  0.09989295,  0.09989295,\n",
      "        0.08764927,  0.09989295,  0.09989295,  0.08770152,  0.0999452 ,\n",
      "        0.0999452 ,  0.0999452 ,  0.0999452 ,  0.0999452 ,  0.0999452 ,\n",
      "        0.0999452 ,  0.0999452 ,  0.06207653, -0.1354376 , -0.04820249,\n",
      "       -1.24135636, -0.1856952 , -0.49669058, -1.06414588,  0.50207076,\n",
      "        0.08978322,  0.00860204,  0.35475884, -0.56232446, -0.26678828,\n",
      "       -0.20026532, -0.35897773, -0.23124745,  0.20682892,  0.05596997,\n",
      "       -0.49361104,  0.11358274,  0.21373617, -0.21768175, -0.18529157,\n",
      "        0.15813635,  0.18697399, -1.29855929, -0.18999946, -0.18440082,\n",
      "       -0.54025159, -0.23393038,  0.27972343,  0.21774733,  0.06207653,\n",
      "        0.06207653,  0.06207653,  0.06207653,  0.06207653,  0.06207653,\n",
      "        0.06207653,  0.09429924,  0.45818786,  0.10702299,  1.22547942,\n",
      "        0.7600179 ,  0.0434868 ,  0.12680771,  0.13879216,  0.3260723 ,\n",
      "        0.3819669 ,  0.30324042, -0.08049422, -0.14027287, -0.73519677,\n",
      "        0.85037815,  0.16371054,  0.38594117,  0.39527021,  0.39331004,\n",
      "        0.31244203,  0.31660319, -0.56261788, -0.63124749, -0.28610015,\n",
      "       -0.34890286, -0.77821959, -0.3432073 , -0.60311631,  0.06207593,\n",
      "        0.1530488 ,  0.04346535,  0.3208738 ,  0.01753501,  0.1103605 ,\n",
      "       -0.46895124, -1.18544486, -0.48389258,  0.6577246 ,  0.76782613,\n",
      "       -0.3362284 , -0.16717674, -0.46046431,  0.1276389 ,  0.31017127,\n",
      "        0.01063978, -0.23498218, -0.34683538, -0.59595535,  0.7817706 ,\n",
      "        0.22377492, -0.14616966,  0.55987907,  0.11087293, -0.25307572,\n",
      "       -0.24945512,  0.30320111, -0.19863629, -0.1847011 , -0.1966048 ,\n",
      "       -0.26982606, -0.38091954,  0.06455981, -0.34388659,  0.40037632,\n",
      "        0.21188802,  0.08764559, -0.51973311, -0.47006373,  0.03205444,\n",
      "        0.45270883, -0.47415477,  0.8093448 ,  0.49009634,  0.27291293,\n",
      "        0.07481273,  0.18091064,  0.32273085,  0.2279183 , -0.65727385,\n",
      "       -0.16570998,  0.09106161,  0.54156932,  0.09324284, -0.75043139,\n",
      "        0.70896518,  0.46261581,  0.22341181, -0.38726651, -0.5130293 ,\n",
      "       -0.18026087, -0.89126498,  0.3304652 ,  0.03398502,  0.0816086 ,\n",
      "        0.50722449,  0.49129185,  0.19268083,  0.08014633, -0.87218529,\n",
      "       -0.63500217, -0.30295442, -0.3017596 ,  0.06207653,  0.06207653,\n",
      "        0.06207653,  0.06207653,  0.06207653,  0.54079175,  0.51094369,\n",
      "        0.40129396,  0.66914617, -0.27391264, -0.59644618, -0.62430505,\n",
      "        0.76369082, -0.43225892, -0.23480461, -0.10519276,  0.08782138])\n",
      "Wall time: 413 ms\n"
     ]
    }
   ],
   "source": [
    "%%time\n",
    "param = [A, y, l2, False, l1]\n",
    "res_solver = minimize(F, x_init, args = param, jac=logreg_grad_plus_lasso, \n",
    "                      method='L-BFGS-B',\n",
    "                      options={'maxiter':10000, 'disp':True}, tol=1e-30)\n",
    "\n",
    "print(res_solver.success)\n",
    "print(res_solver.fun)\n",
    "print(res_solver)"
   ]
  },
  {
   "cell_type": "code",
   "execution_count": 7,
   "metadata": {},
   "outputs": [],
   "source": [
    "save_solution(dataset, l2, l1, np.array(res_solver.x), res_solver.fun)"
   ]
  },
  {
   "cell_type": "code",
   "execution_count": 8,
   "metadata": {},
   "outputs": [
    {
     "name": "stdout",
     "output_type": "stream",
     "text": [
      "Datasize:  49749 , dimension:  300\n",
      "Smoothness constant of f         :  0.661199384494479\n",
      "Average smoothness const of f_ij :  2.912551006050437\n",
      "Worst smoothness const of f_ij   :  28.5\n",
      "Wall time: 487 ms\n"
     ]
    }
   ],
   "source": [
    "%%time\n",
    "dataset = \"w8a\"\n",
    "A, y, m, n, sparsity_A = prepare_data(dataset)\n",
    "denseA = A.toarray()\n",
    "L, average_L, worst_L = compute_L_distrib(dataset, A)\n",
    "print(\"Datasize: \", m, \", dimension: \", n)\n",
    "print(\"Smoothness constant of f         : \", L)\n",
    "print(\"Average smoothness const of f_ij : \", average_L)\n",
    "print(\"Worst smoothness const of f_ij   : \", worst_L)\n",
    "\n",
    "num_of_workers = 16"
   ]
  },
  {
   "cell_type": "code",
   "execution_count": 9,
   "metadata": {},
   "outputs": [],
   "source": [
    "shift_param = 1.0\n",
    "filename=dataset+\"_x_star_shifted_by_all_ones_shift_\"+str(shift_param)\n",
    "l2 = L/1000\n",
    "l1 = 0\n",
    "batch_size = int(0.01*m)\n",
    "x_star = read_solution(dataset, l2, l1)[0]\n",
    "f_star = read_solution(dataset, l2, l1)[1]\n",
    "x_init = x_star + shift_param*np.ones(n)\n",
    "\n",
    "sparse_full = False\n",
    "sparse_stoch = False"
   ]
  },
  {
   "cell_type": "code",
   "execution_count": 10,
   "metadata": {
    "scrolled": true
   },
   "outputs": [
    {
     "name": "stdout",
     "output_type": "stream",
     "text": [
      "f(x^0) =  5.967422233116459\n",
      "f(x^*) =  0.17403451324630026\n"
     ]
    }
   ],
   "source": [
    "print(\"f(x^0) = \", logreg_loss(x_init, [denseA,y,l2,False,0]))\n",
    "print(\"f(x^*) = \", f_star)"
   ]
  },
  {
   "cell_type": "code",
   "execution_count": null,
   "metadata": {},
   "outputs": [],
   "source": [
    "%%time\n",
    "attack = \"BF\"\n",
    "agg = \"GM\"\n",
    "S = 20\n",
    "save_info_period = 30\n",
    "gamma = 5 / (2*L)\n",
    "num_of_byz = 3\n",
    "\n",
    "res = byrd_saga(filename=filename, x_init=x_init, A=A, y=y, gamma=gamma, num_of_byz=num_of_byz, num_of_workers=num_of_workers,\n",
    "     attack=attack, agg=agg, l2=l2, \n",
    "     sparse_full=sparse_full, sparse_stoch=sparse_stoch, l1=0, \n",
    "     S=S, max_t=np.inf,\n",
    "     batch_size=batch_size, indices=None, save_info_period=save_info_period, \n",
    "     x_star=x_star, f_star=f_star)"
   ]
  },
  {
   "cell_type": "code",
   "execution_count": 11,
   "metadata": {},
   "outputs": [
    {
     "name": "stdout",
     "output_type": "stream",
     "text": [
      "Wall time: 1h 20min 1s\n"
     ]
    }
   ],
   "source": [
    "%%time\n",
    "attack = \"LF\"\n",
    "agg = \"GM\"\n",
    "S = 20\n",
    "save_info_period = 30\n",
    "gamma = 5 / (2*L)\n",
    "num_of_byz = 3\n",
    "\n",
    "res = byrd_saga(filename=filename, x_init=x_init, A=A, y=y, gamma=gamma, num_of_byz=num_of_byz, num_of_workers=num_of_workers,\n",
    "     attack=attack, agg=agg, l2=l2, \n",
    "     sparse_full=sparse_full, sparse_stoch=sparse_stoch, l1=0, \n",
    "     S=S, max_t=np.inf,\n",
    "     batch_size=batch_size, indices=None, save_info_period=save_info_period, \n",
    "     x_star=x_star, f_star=f_star)"
   ]
  },
  {
   "cell_type": "code",
   "execution_count": 13,
   "metadata": {},
   "outputs": [
    {
     "name": "stdout",
     "output_type": "stream",
     "text": [
      "Wall time: 54min 12s\n"
     ]
    }
   ],
   "source": [
    "%%time\n",
    "attack = \"IPM\"\n",
    "agg = \"GM\"\n",
    "S = 20\n",
    "save_info_period = 30\n",
    "gamma = 5 / (2*L)\n",
    "num_of_byz = 3\n",
    "\n",
    "res = byrd_saga(filename=filename, x_init=x_init, A=A, y=y, gamma=gamma, num_of_byz=num_of_byz, num_of_workers=num_of_workers,\n",
    "     attack=attack, agg=agg, l2=l2, \n",
    "     sparse_full=sparse_full, sparse_stoch=sparse_stoch, l1=0, \n",
    "     S=S, max_t=np.inf,\n",
    "     batch_size=batch_size, indices=None, save_info_period=save_info_period, \n",
    "     x_star=x_star, f_star=f_star)"
   ]
  },
  {
   "cell_type": "code",
   "execution_count": 15,
   "metadata": {},
   "outputs": [
    {
     "name": "stdout",
     "output_type": "stream",
     "text": [
      "Wall time: 54min 43s\n"
     ]
    }
   ],
   "source": [
    "%%time\n",
    "attack = \"ALIE\"\n",
    "agg = \"GM\"\n",
    "S = 20\n",
    "save_info_period = 30\n",
    "gamma = 5 / (2*L)\n",
    "num_of_byz = 3\n",
    "\n",
    "res = byrd_saga(filename=filename, x_init=x_init, A=A, y=y, gamma=gamma, num_of_byz=num_of_byz, num_of_workers=num_of_workers,\n",
    "     attack=attack, agg=agg, l2=l2, \n",
    "     sparse_full=sparse_full, sparse_stoch=sparse_stoch, l1=0, \n",
    "     S=S, max_t=np.inf,\n",
    "     batch_size=batch_size, indices=None, save_info_period=save_info_period, \n",
    "     x_star=x_star, f_star=f_star)"
   ]
  },
  {
   "cell_type": "code",
   "execution_count": 16,
   "metadata": {},
   "outputs": [
    {
     "data": {
      "image/png": "[encoded data removed]",
      "text/plain": [
       "<Figure size 864x576 with 1 Axes>"
      ]
     },
     "metadata": {
      "needs_background": "light"
     },
     "output_type": "display_data"
    }
   ],
   "source": [
    "methods = [\n",
    "    ['Byrd_SAGA', [gamma, l2, S, num_of_workers, batch_size, num_of_byz, attack, agg], \n",
    "           'Byrd_SAGA', None],\n",
    "]\n",
    "mode_y = 'func_vals'\n",
    "mode_x = 'iters'\n",
    "figsize = (12, 8)\n",
    "title_size = 30\n",
    "linewidth = 2\n",
    "markersize = 15\n",
    "legend_size = 20\n",
    "xlabel_size = 30\n",
    "ylabel_size = 40\n",
    "xticks_size = 20\n",
    "yticks_size = 30\n",
    "sizes = [title_size, linewidth, markersize, legend_size, xlabel_size, ylabel_size, xticks_size, yticks_size]\n",
    "title = dataset+\", \"+\" byzantines: \"+str(num_of_byz)+\", batchsize: \"+str(batch_size)+\", \"+attack+\", \"+agg\n",
    "bbox_to_anchor = (1,1)\n",
    "legend_loc=\"upper right\"\n",
    "\n",
    "save_fig = [True, \"_Byrd_SAGA\"+filename+\"_one_\"+attack+\"_\"+agg+\"_epochs_\"+str(S)+\"_gamma_\"+str(gamma)+\"_l2_\"+str(l2)+\"_num_of_workers_\"+str(num_of_workers)+\"_byz_\"+str(num_of_byz)+\"_batch_\"+str(batch_size)+\"_iters.pdf\"]\n",
    "\n",
    "args_for_plots = [filename, mode_y, mode_x, figsize, sizes, title, methods, bbox_to_anchor, legend_loc, save_fig]\n",
    "make_plots(args_for_plots)"
   ]
  },
  {
   "cell_type": "code",
   "execution_count": null,
   "metadata": {},
   "outputs": [],
   "source": []
  }
 ],
 "metadata": {
  "kernelspec": {
   "display_name": "Python 3 (ipykernel)",
   "language": "python",
   "name": "python3"
  },
  "language_info": {
   "codemirror_mode": {
    "name": "ipython",
    "version": 3
   },
   "file_extension": ".py",
   "mimetype": "text/x-python",
   "name": "python",
   "nbconvert_exporter": "python",
   "pygments_lexer": "ipython3",
   "version": "3.9.12"
  }
 },
 "nbformat": 4,
 "nbformat_minor": 4
}
